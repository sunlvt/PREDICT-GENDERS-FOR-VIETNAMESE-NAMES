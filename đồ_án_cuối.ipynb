{
  "nbformat": 4,
  "nbformat_minor": 0,
  "metadata": {
    "colab": {
      "provenance": [],
      "collapsed_sections": [
        "uAD0HOdDp_Zx",
        "tsoLe-iEk2ix"
      ]
    },
    "kernelspec": {
      "name": "python3",
      "display_name": "Python 3"
    },
    "language_info": {
      "name": "python"
    },
    "accelerator": "GPU"
  },
  "cells": [
    {
      "cell_type": "markdown",
      "metadata": {
        "id": "uAD0HOdDp_Zx"
      },
      "source": [
        "#Nạp dataset\n"
      ]
    },
    {
      "cell_type": "code",
      "metadata": {
        "colab": {
          "base_uri": "https://localhost:8080/"
        },
        "id": "cNIhKceixHQX",
        "outputId": "6b3df8a4-18d5-46a0-c279-40da5140d29d"
      },
      "source": [
        "from google.colab import drive\n",
        "drive.mount('/content/drive')"
      ],
      "execution_count": null,
      "outputs": [
        {
          "output_type": "stream",
          "name": "stdout",
          "text": [
            "Mounted at /content/drive\n"
          ]
        }
      ]
    },
    {
      "cell_type": "code",
      "metadata": {
        "id": "fUGzo6HuxKM8"
      },
      "source": [
        "import numpy as np\n",
        "import pandas as pd"
      ],
      "execution_count": null,
      "outputs": []
    },
    {
      "cell_type": "code",
      "metadata": {
        "id": "gaBfNdSTxeMJ"
      },
      "source": [
        "file_train = pd.read_csv('/content/drive/MyDrive/UIT-ViNames/UIT-ViNames - Train.csv')\n",
        "file_dev = pd.read_csv('/content/drive/MyDrive/UIT-ViNames/UIT-ViNames - Dev.csv')\n",
        "file_test = pd.read_csv('/content/drive/MyDrive/UIT-ViNames/UIT-ViNames-Test.csv')"
      ],
      "execution_count": null,
      "outputs": []
    },
    {
      "cell_type": "code",
      "metadata": {
        "colab": {
          "base_uri": "https://localhost:8080/",
          "height": 417
        },
        "id": "r6GTz5Dcyh6n",
        "outputId": "758a926e-ac50-4ea0-fc64-2acfa14c3ccc"
      },
      "source": [
        "file_train"
      ],
      "execution_count": null,
      "outputs": [
        {
          "output_type": "execute_result",
          "data": {
            "text/html": [
              "<div>\n",
              "<style scoped>\n",
              "    .dataframe tbody tr th:only-of-type {\n",
              "        vertical-align: middle;\n",
              "    }\n",
              "\n",
              "    .dataframe tbody tr th {\n",
              "        vertical-align: top;\n",
              "    }\n",
              "\n",
              "    .dataframe thead th {\n",
              "        text-align: right;\n",
              "    }\n",
              "</style>\n",
              "<table border=\"1\" class=\"dataframe\">\n",
              "  <thead>\n",
              "    <tr style=\"text-align: right;\">\n",
              "      <th></th>\n",
              "      <th>Full_Names</th>\n",
              "      <th>Gender</th>\n",
              "    </tr>\n",
              "  </thead>\n",
              "  <tbody>\n",
              "    <tr>\n",
              "      <th>0</th>\n",
              "      <td>Ngô Xuân Tùng</td>\n",
              "      <td>1</td>\n",
              "    </tr>\n",
              "    <tr>\n",
              "      <th>1</th>\n",
              "      <td>Bùi Dương Thảo Vy</td>\n",
              "      <td>0</td>\n",
              "    </tr>\n",
              "    <tr>\n",
              "      <th>2</th>\n",
              "      <td>Lưu Thế Huy</td>\n",
              "      <td>1</td>\n",
              "    </tr>\n",
              "    <tr>\n",
              "      <th>3</th>\n",
              "      <td>Nguyễn Thị Vân</td>\n",
              "      <td>0</td>\n",
              "    </tr>\n",
              "    <tr>\n",
              "      <th>4</th>\n",
              "      <td>Dương Minh Long</td>\n",
              "      <td>1</td>\n",
              "    </tr>\n",
              "    <tr>\n",
              "      <th>...</th>\n",
              "      <td>...</td>\n",
              "      <td>...</td>\n",
              "    </tr>\n",
              "    <tr>\n",
              "      <th>18790</th>\n",
              "      <td>Trần Nguyễn Tường Vy</td>\n",
              "      <td>0</td>\n",
              "    </tr>\n",
              "    <tr>\n",
              "      <th>18791</th>\n",
              "      <td>Phan Hải Âu</td>\n",
              "      <td>1</td>\n",
              "    </tr>\n",
              "    <tr>\n",
              "      <th>18792</th>\n",
              "      <td>Phạm Trương Trúc Phương</td>\n",
              "      <td>0</td>\n",
              "    </tr>\n",
              "    <tr>\n",
              "      <th>18793</th>\n",
              "      <td>Nguyễn Diệu Hiền</td>\n",
              "      <td>0</td>\n",
              "    </tr>\n",
              "    <tr>\n",
              "      <th>18794</th>\n",
              "      <td>Nguyễn Đoàn Thảo Nhi</td>\n",
              "      <td>0</td>\n",
              "    </tr>\n",
              "  </tbody>\n",
              "</table>\n",
              "<p>18795 rows × 2 columns</p>\n",
              "</div>"
            ],
            "text/plain": [
              "                    Full_Names  Gender\n",
              "0                Ngô Xuân Tùng       1\n",
              "1            Bùi Dương Thảo Vy       0\n",
              "2                  Lưu Thế Huy       1\n",
              "3               Nguyễn Thị Vân       0\n",
              "4              Dương Minh Long       1\n",
              "...                        ...     ...\n",
              "18790     Trần Nguyễn Tường Vy       0\n",
              "18791              Phan Hải Âu       1\n",
              "18792  Phạm Trương Trúc Phương       0\n",
              "18793         Nguyễn Diệu Hiền       0\n",
              "18794     Nguyễn Đoàn Thảo Nhi       0\n",
              "\n",
              "[18795 rows x 2 columns]"
            ]
          },
          "metadata": {},
          "execution_count": 6
        }
      ]
    },
    {
      "cell_type": "code",
      "metadata": {
        "colab": {
          "base_uri": "https://localhost:8080/"
        },
        "id": "FO0aKKg3xrh_",
        "outputId": "68632088-a2fe-4272-a89c-e42c3b3a43ea"
      },
      "source": [
        "file_train[\"Full_Names\"]"
      ],
      "execution_count": null,
      "outputs": [
        {
          "output_type": "execute_result",
          "data": {
            "text/plain": [
              "0                  Ngô Xuân Tùng\n",
              "1              Bùi Dương Thảo Vy\n",
              "2                    Lưu Thế Huy\n",
              "3                 Nguyễn Thị Vân\n",
              "4                Dương Minh Long\n",
              "                  ...           \n",
              "18790       Trần Nguyễn Tường Vy\n",
              "18791                Phan Hải Âu\n",
              "18792    Phạm Trương Trúc Phương\n",
              "18793           Nguyễn Diệu Hiền\n",
              "18794       Nguyễn Đoàn Thảo Nhi\n",
              "Name: Full_Names, Length: 18795, dtype: object"
            ]
          },
          "metadata": {},
          "execution_count": 7
        }
      ]
    },
    {
      "cell_type": "markdown",
      "metadata": {
        "id": "7PVU02iBqZRc"
      },
      "source": [
        "#Tiền xử lý dữ liệu\n"
      ]
    },
    {
      "cell_type": "code",
      "metadata": {
        "id": "zebAoEnjxlzt"
      },
      "source": [
        "def Split_File(file):\n",
        "  i =0\n",
        "  file[\"First_Name\"]=file[\"Mid_Name\"]=file[\"Last_Name\"]=file[\"Full_Names\"]\n",
        "  for FULL_NAME in file.Full_Names:\n",
        "    Name=FULL_NAME\n",
        "    Name_Split= Name.split()\n",
        "    file.First_Name[i]=Name_Split[0]\n",
        "    file.Mid_Name[i]=str(Name_Split[1:-1])\n",
        "    file.Last_Name[i]=Name_Split[-1]\n",
        "    i=i+1"
      ],
      "execution_count": null,
      "outputs": []
    },
    {
      "cell_type": "code",
      "metadata": {
        "colab": {
          "base_uri": "https://localhost:8080/"
        },
        "id": "d6uHSDl2xtOc",
        "outputId": "47f3f4ec-a159-4c50-a905-035283cbf926"
      },
      "source": [
        "Split_File(file_train)"
      ],
      "execution_count": null,
      "outputs": [
        {
          "output_type": "stream",
          "name": "stderr",
          "text": [
            "/usr/local/lib/python3.7/dist-packages/ipykernel_launcher.py:7: SettingWithCopyWarning: \n",
            "A value is trying to be set on a copy of a slice from a DataFrame\n",
            "\n",
            "See the caveats in the documentation: https://pandas.pydata.org/pandas-docs/stable/user_guide/indexing.html#returning-a-view-versus-a-copy\n",
            "  import sys\n",
            "/usr/local/lib/python3.7/dist-packages/ipykernel_launcher.py:8: SettingWithCopyWarning: \n",
            "A value is trying to be set on a copy of a slice from a DataFrame\n",
            "\n",
            "See the caveats in the documentation: https://pandas.pydata.org/pandas-docs/stable/user_guide/indexing.html#returning-a-view-versus-a-copy\n",
            "  \n",
            "/usr/local/lib/python3.7/dist-packages/ipykernel_launcher.py:9: SettingWithCopyWarning: \n",
            "A value is trying to be set on a copy of a slice from a DataFrame\n",
            "\n",
            "See the caveats in the documentation: https://pandas.pydata.org/pandas-docs/stable/user_guide/indexing.html#returning-a-view-versus-a-copy\n",
            "  if __name__ == '__main__':\n"
          ]
        }
      ]
    },
    {
      "cell_type": "code",
      "metadata": {
        "colab": {
          "base_uri": "https://localhost:8080/",
          "height": 417
        },
        "id": "1MFKwuunzwmU",
        "outputId": "6d77a08c-712e-4c3d-fe5f-8136c54eacf4"
      },
      "source": [
        "file_train"
      ],
      "execution_count": null,
      "outputs": [
        {
          "output_type": "execute_result",
          "data": {
            "text/html": [
              "<div>\n",
              "<style scoped>\n",
              "    .dataframe tbody tr th:only-of-type {\n",
              "        vertical-align: middle;\n",
              "    }\n",
              "\n",
              "    .dataframe tbody tr th {\n",
              "        vertical-align: top;\n",
              "    }\n",
              "\n",
              "    .dataframe thead th {\n",
              "        text-align: right;\n",
              "    }\n",
              "</style>\n",
              "<table border=\"1\" class=\"dataframe\">\n",
              "  <thead>\n",
              "    <tr style=\"text-align: right;\">\n",
              "      <th></th>\n",
              "      <th>Full_Names</th>\n",
              "      <th>Gender</th>\n",
              "      <th>First_Name</th>\n",
              "      <th>Mid_Name</th>\n",
              "      <th>Last_Name</th>\n",
              "    </tr>\n",
              "  </thead>\n",
              "  <tbody>\n",
              "    <tr>\n",
              "      <th>0</th>\n",
              "      <td>Ngô Xuân Tùng</td>\n",
              "      <td>1</td>\n",
              "      <td>Ngô</td>\n",
              "      <td>['Xuân']</td>\n",
              "      <td>Tùng</td>\n",
              "    </tr>\n",
              "    <tr>\n",
              "      <th>1</th>\n",
              "      <td>Bùi Dương Thảo Vy</td>\n",
              "      <td>0</td>\n",
              "      <td>Bùi</td>\n",
              "      <td>['Dương', 'Thảo']</td>\n",
              "      <td>Vy</td>\n",
              "    </tr>\n",
              "    <tr>\n",
              "      <th>2</th>\n",
              "      <td>Lưu Thế Huy</td>\n",
              "      <td>1</td>\n",
              "      <td>Lưu</td>\n",
              "      <td>['Thế']</td>\n",
              "      <td>Huy</td>\n",
              "    </tr>\n",
              "    <tr>\n",
              "      <th>3</th>\n",
              "      <td>Nguyễn Thị Vân</td>\n",
              "      <td>0</td>\n",
              "      <td>Nguyễn</td>\n",
              "      <td>['Thị']</td>\n",
              "      <td>Vân</td>\n",
              "    </tr>\n",
              "    <tr>\n",
              "      <th>4</th>\n",
              "      <td>Dương Minh Long</td>\n",
              "      <td>1</td>\n",
              "      <td>Dương</td>\n",
              "      <td>['Minh']</td>\n",
              "      <td>Long</td>\n",
              "    </tr>\n",
              "    <tr>\n",
              "      <th>...</th>\n",
              "      <td>...</td>\n",
              "      <td>...</td>\n",
              "      <td>...</td>\n",
              "      <td>...</td>\n",
              "      <td>...</td>\n",
              "    </tr>\n",
              "    <tr>\n",
              "      <th>18790</th>\n",
              "      <td>Trần Nguyễn Tường Vy</td>\n",
              "      <td>0</td>\n",
              "      <td>Trần</td>\n",
              "      <td>['Nguyễn', 'Tường']</td>\n",
              "      <td>Vy</td>\n",
              "    </tr>\n",
              "    <tr>\n",
              "      <th>18791</th>\n",
              "      <td>Phan Hải Âu</td>\n",
              "      <td>1</td>\n",
              "      <td>Phan</td>\n",
              "      <td>['Hải']</td>\n",
              "      <td>Âu</td>\n",
              "    </tr>\n",
              "    <tr>\n",
              "      <th>18792</th>\n",
              "      <td>Phạm Trương Trúc Phương</td>\n",
              "      <td>0</td>\n",
              "      <td>Phạm</td>\n",
              "      <td>['Trương', 'Trúc']</td>\n",
              "      <td>Phương</td>\n",
              "    </tr>\n",
              "    <tr>\n",
              "      <th>18793</th>\n",
              "      <td>Nguyễn Diệu Hiền</td>\n",
              "      <td>0</td>\n",
              "      <td>Nguyễn</td>\n",
              "      <td>['Diệu']</td>\n",
              "      <td>Hiền</td>\n",
              "    </tr>\n",
              "    <tr>\n",
              "      <th>18794</th>\n",
              "      <td>Nguyễn Đoàn Thảo Nhi</td>\n",
              "      <td>0</td>\n",
              "      <td>Nguyễn</td>\n",
              "      <td>['Đoàn', 'Thảo']</td>\n",
              "      <td>Nhi</td>\n",
              "    </tr>\n",
              "  </tbody>\n",
              "</table>\n",
              "<p>18795 rows × 5 columns</p>\n",
              "</div>"
            ],
            "text/plain": [
              "                    Full_Names  Gender  ...             Mid_Name Last_Name\n",
              "0                Ngô Xuân Tùng       1  ...             ['Xuân']      Tùng\n",
              "1            Bùi Dương Thảo Vy       0  ...    ['Dương', 'Thảo']        Vy\n",
              "2                  Lưu Thế Huy       1  ...              ['Thế']       Huy\n",
              "3               Nguyễn Thị Vân       0  ...              ['Thị']       Vân\n",
              "4              Dương Minh Long       1  ...             ['Minh']      Long\n",
              "...                        ...     ...  ...                  ...       ...\n",
              "18790     Trần Nguyễn Tường Vy       0  ...  ['Nguyễn', 'Tường']        Vy\n",
              "18791              Phan Hải Âu       1  ...              ['Hải']        Âu\n",
              "18792  Phạm Trương Trúc Phương       0  ...   ['Trương', 'Trúc']    Phương\n",
              "18793         Nguyễn Diệu Hiền       0  ...             ['Diệu']      Hiền\n",
              "18794     Nguyễn Đoàn Thảo Nhi       0  ...     ['Đoàn', 'Thảo']       Nhi\n",
              "\n",
              "[18795 rows x 5 columns]"
            ]
          },
          "metadata": {},
          "execution_count": 10
        }
      ]
    },
    {
      "cell_type": "code",
      "metadata": {
        "id": "_f1_GjZHy5Ds"
      },
      "source": [
        "from sklearn.model_selection import train_test_split\n",
        "from sklearn.feature_extraction.text import CountVectorizer\n",
        "from sklearn.naive_bayes import MultinomialNB"
      ],
      "execution_count": null,
      "outputs": []
    },
    {
      "cell_type": "code",
      "metadata": {
        "id": "wGjx8XXrxxtc"
      },
      "source": [
        "cv = CountVectorizer()\n",
        "X_train = cv.fit_transform(file_train.Mid_Name,file_train.Last_Name)\n",
        "y_train = file_train.Gender\n",
        "X_test = cv.transform(file_test.Full_Names)\n",
        "y_test = file_test.Gender"
      ],
      "execution_count": null,
      "outputs": []
    },
    {
      "cell_type": "code",
      "metadata": {
        "colab": {
          "base_uri": "https://localhost:8080/"
        },
        "id": "Bsjyt0Wfjive",
        "outputId": "d7124564-0455-4508-cb7e-4bb6852f023f"
      },
      "source": [
        "X_train"
      ],
      "execution_count": null,
      "outputs": [
        {
          "output_type": "execute_result",
          "data": {
            "text/plain": [
              "<18795x523 sparse matrix of type '<class 'numpy.int64'>'\n",
              "\twith 25380 stored elements in Compressed Sparse Row format>"
            ]
          },
          "metadata": {},
          "execution_count": 13
        }
      ]
    },
    {
      "cell_type": "markdown",
      "metadata": {
        "id": "tsoLe-iEk2ix"
      },
      "source": [
        "#SVM\n",
        "\n"
      ]
    },
    {
      "cell_type": "code",
      "metadata": {
        "id": "lsC8d81-nzS4"
      },
      "source": [
        "from sklearn import svm\n",
        "from sklearn.metrics import accuracy_score"
      ],
      "execution_count": null,
      "outputs": []
    },
    {
      "cell_type": "code",
      "metadata": {
        "colab": {
          "base_uri": "https://localhost:8080/"
        },
        "id": "ehSLIn83n2E6",
        "outputId": "7d894a44-04c9-4787-ad1f-2267ebf3940a"
      },
      "source": [
        "X_train\n"
      ],
      "execution_count": null,
      "outputs": [
        {
          "output_type": "execute_result",
          "data": {
            "text/plain": [
              "<18795x523 sparse matrix of type '<class 'numpy.int64'>'\n",
              "\twith 25380 stored elements in Compressed Sparse Row format>"
            ]
          },
          "metadata": {},
          "execution_count": 15
        }
      ]
    },
    {
      "cell_type": "code",
      "metadata": {
        "colab": {
          "base_uri": "https://localhost:8080/"
        },
        "id": "bwpZTv9vn7LO",
        "outputId": "2ec1711c-aeb9-4bd4-8779-9b99bcef8ca9"
      },
      "source": [
        "import time \n",
        "# fit the training dataset on the classifier\n",
        "start_time = time.time()\n",
        "\n",
        "SVM = svm.SVC(C=1.0, kernel='linear', degree=3, gamma='auto')\n",
        "SVM.fit(X_train,y_train)\n",
        "\n",
        "print(\"---- Mất {} để huấn luyện mô hình ----\".format((time.time() - start_time)))"
      ],
      "execution_count": null,
      "outputs": [
        {
          "output_type": "stream",
          "name": "stdout",
          "text": [
            "---- Mất 2.643404245376587 để huấn luyện mô hình ----\n"
          ]
        }
      ]
    },
    {
      "cell_type": "code",
      "metadata": {
        "colab": {
          "base_uri": "https://localhost:8080/"
        },
        "id": "CxadKY41n9Sv",
        "outputId": "f1111fcd-13e3-4914-b4dd-6bd99970e2c5"
      },
      "source": [
        "# predict the labels on test dataset\n",
        "predictions_SVM = SVM.predict(X_test) #y_test_pred = f(x_test)\n",
        "\n",
        "# Use accuracy_score function to get the accuracy\n",
        "print(\"SVM Accuracy Score -> \",accuracy_score(predictions_SVM , y_test)*100)\n"
      ],
      "execution_count": null,
      "outputs": [
        {
          "output_type": "stream",
          "name": "stdout",
          "text": [
            "SVM Accuracy Score ->  91.13594040968343\n"
          ]
        }
      ]
    },
    {
      "cell_type": "code",
      "metadata": {
        "colab": {
          "base_uri": "https://localhost:8080/"
        },
        "id": "EtOEhmdSoDNF",
        "outputId": "7f89f405-488e-4e67-d56c-4c74cfdea4e4"
      },
      "source": [
        "from sklearn.metrics import f1_score\n",
        "print(\" SVM F1-score: \", f1_score(predictions_SVM, y_test, average='macro'))"
      ],
      "execution_count": null,
      "outputs": [
        {
          "output_type": "stream",
          "name": "stdout",
          "text": [
            " SVM F1-score ->  0.909643575486138\n"
          ]
        }
      ]
    },
    {
      "cell_type": "code",
      "metadata": {
        "colab": {
          "base_uri": "https://localhost:8080/"
        },
        "id": "1KEnp-YdoJm9",
        "outputId": "5018ca58-b582-4795-ce38-15213b689385"
      },
      "source": [
        "from sklearn.metrics import confusion_matrix\n",
        "from sklearn.metrics import classification_report\n",
        "\n",
        "print(classification_report(y_test, predictions_SVM))\n",
        "print(confusion_matrix(y_test, predictions_SVM))"
      ],
      "execution_count": null,
      "outputs": [
        {
          "output_type": "stream",
          "name": "stdout",
          "text": [
            "              precision    recall  f1-score   support\n",
            "\n",
            "           0       0.89      0.91      0.90      2289\n",
            "           1       0.93      0.91      0.92      3081\n",
            "\n",
            "    accuracy                           0.91      5370\n",
            "   macro avg       0.91      0.91      0.91      5370\n",
            "weighted avg       0.91      0.91      0.91      5370\n",
            "\n",
            "[[2077  212]\n",
            " [ 264 2817]]\n"
          ]
        }
      ]
    },
    {
      "cell_type": "code",
      "metadata": {
        "colab": {
          "base_uri": "https://localhost:8080/",
          "height": 512
        },
        "id": "_xm00ElMoMpi",
        "outputId": "7896ed6e-1d51-48c5-b87a-56af4b55988b"
      },
      "source": [
        "import seaborn as sns\n",
        "import matplotlib.pyplot as plt\n",
        "sns.set(font_scale=1.4)\n",
        "# Creates a confusion matrix\n",
        "cm = confusion_matrix(y_test, predictions_SVM) \n",
        "\n",
        "# Transform to df for easier plotting\n",
        "cm_df = pd.DataFrame(cm,\n",
        "                     index = ['Male','Female'], \n",
        "                     columns = ['Male','Female'])\n",
        "\n",
        "plt.figure(figsize=(10,8))\n",
        "sns.heatmap(cm_df, annot=True, fmt=\"d\",annot_kws={\"size\": 18},)\n",
        "plt.ylabel('True label')\n",
        "plt.xlabel('Predicted label')\n",
        "plt.show()"
      ],
      "execution_count": null,
      "outputs": [
        {
          "output_type": "display_data",
          "data": {
            "image/png": "[encoded data removed]",
            "text/plain": [
              "<Figure size 720x576 with 2 Axes>"
            ]
          },
          "metadata": {}
        }
      ]
    },
    {
      "cell_type": "code",
      "metadata": {
        "id": "sthFEHrBtmS7"
      },
      "source": [
        "def gender_predict(name):\n",
        "  Name = [name]\n",
        "  vector = cv.transform(Name).toarray()\n",
        "  if SVM.predict(vector) == 1:\n",
        "    print(\"Giới tính: Nam\")\n",
        "  else:\n",
        "    print(\"Giới tính: Nữ\")"
      ],
      "execution_count": null,
      "outputs": []
    },
    {
      "cell_type": "code",
      "metadata": {
        "colab": {
          "base_uri": "https://localhost:8080/"
        },
        "id": "fD1E4X-JtovH",
        "outputId": "921b00a1-a150-40f0-a45b-f94649237ad2"
      },
      "source": [
        "gender_predict(\"Phan Kim Oanh\")"
      ],
      "execution_count": null,
      "outputs": [
        {
          "output_type": "stream",
          "name": "stdout",
          "text": [
            "Giới tính: Nữ\n"
          ]
        }
      ]
    },
    {
      "cell_type": "markdown",
      "metadata": {
        "id": "cAH-R4vapDZT"
      },
      "source": [
        "#Decision Tree Classifier"
      ]
    },
    {
      "cell_type": "code",
      "metadata": {
        "id": "sqycxbw8oqpb"
      },
      "source": [
        "from sklearn.tree import DecisionTreeClassifier"
      ],
      "execution_count": null,
      "outputs": []
    },
    {
      "cell_type": "code",
      "metadata": {
        "colab": {
          "base_uri": "https://localhost:8080/"
        },
        "id": "zo1VrqLEpItf",
        "outputId": "3ef4452c-e03b-41a7-ceb0-ea6f04482713"
      },
      "source": [
        "import time \n",
        "\n",
        "# fit the training dataset on the classifier\n",
        "start_time = time.time()\n",
        "\n",
        "clf = DecisionTreeClassifier(random_state=0,max_depth=65)\n",
        "clf.fit(X_train,y_train)\n",
        "\n",
        "print(\"---- Mất {} để huấn luyện mô hình ----\".format((time.time() - start_time)))"
      ],
      "execution_count": null,
      "outputs": [
        {
          "output_type": "stream",
          "name": "stdout",
          "text": [
            "---- Mất 0.06429314613342285 để huấn luyện mô hình ----\n"
          ]
        }
      ]
    },
    {
      "cell_type": "code",
      "metadata": {
        "colab": {
          "base_uri": "https://localhost:8080/"
        },
        "id": "C5TYCAP_pMRI",
        "outputId": "c6fcaae7-5df7-4e24-89ad-2e507f481511"
      },
      "source": [
        "# predict the labels on test dataset\n",
        "predictions_DT = clf.predict(X_test)\n",
        "\n",
        "# Use accuracy_score function to get the accuracy\n",
        "print(\"DT Accuracy Score -> \",accuracy_score(predictions_DT , y_test)*100)"
      ],
      "execution_count": null,
      "outputs": [
        {
          "output_type": "stream",
          "name": "stdout",
          "text": [
            "DT Accuracy Score ->  84.86033519553072\n"
          ]
        }
      ]
    },
    {
      "cell_type": "code",
      "metadata": {
        "colab": {
          "base_uri": "https://localhost:8080/"
        },
        "id": "D_FikeT6pOH5",
        "outputId": "d4cb7e63-6f40-41a9-813e-ffd4a7427749"
      },
      "source": [
        "print(\"F1-score: \", f1_score(predictions_DT,y_test,average='macro'))"
      ],
      "execution_count": null,
      "outputs": [
        {
          "output_type": "stream",
          "name": "stdout",
          "text": [
            "F1-score:  0.8465108582121548\n"
          ]
        }
      ]
    },
    {
      "cell_type": "code",
      "metadata": {
        "colab": {
          "base_uri": "https://localhost:8080/"
        },
        "id": "AjNLCf1opc4P",
        "outputId": "5bd5a03f-d2fc-4eb4-c50b-80e5b322147e"
      },
      "source": [
        "from sklearn.metrics import confusion_matrix\n",
        "from sklearn.metrics import classification_report\n",
        "\n",
        "print(classification_report(y_test, predictions_DT))\n",
        "print(confusion_matrix(y_test, predictions_DT))"
      ],
      "execution_count": null,
      "outputs": [
        {
          "output_type": "stream",
          "name": "stdout",
          "text": [
            "              precision    recall  f1-score   support\n",
            "\n",
            "           0       0.80      0.86      0.83      2289\n",
            "           1       0.89      0.84      0.86      3081\n",
            "\n",
            "    accuracy                           0.85      5370\n",
            "   macro avg       0.84      0.85      0.85      5370\n",
            "weighted avg       0.85      0.85      0.85      5370\n",
            "\n",
            "[[1965  324]\n",
            " [ 489 2592]]\n"
          ]
        }
      ]
    },
    {
      "cell_type": "code",
      "metadata": {
        "colab": {
          "base_uri": "https://localhost:8080/",
          "height": 512
        },
        "id": "0Bu6ZsF7pe72",
        "outputId": "b6d5a135-0fe9-4e01-ad2a-80a2ee381782"
      },
      "source": [
        "import seaborn as sns\n",
        "import matplotlib.pyplot as plt\n",
        "sns.set(font_scale=1.4)\n",
        "\n",
        "# Creates a confusion matrix\n",
        "cm = confusion_matrix(y_test, predictions_DT) \n",
        "\n",
        "# Transform to df for easier plotting\n",
        "cm_df = pd.DataFrame(cm,\n",
        "                     index = ['Male','Female'], \n",
        "                     columns = ['Male','Female'])\n",
        "\n",
        "plt.figure(figsize=(10,8))\n",
        "sns.heatmap(cm_df, annot=True, fmt=\"d\",annot_kws={\"size\": 18},)\n",
        "plt.ylabel('True label')\n",
        "plt.xlabel('Predicted label')\n",
        "plt.show()"
      ],
      "execution_count": null,
      "outputs": [
        {
          "output_type": "display_data",
          "data": {
            "image/png": "[encoded data removed]",
            "text/plain": [
              "<Figure size 720x576 with 2 Axes>"
            ]
          },
          "metadata": {}
        }
      ]
    },
    {
      "cell_type": "code",
      "metadata": {
        "id": "akJMyBBJq3il"
      },
      "source": [
        "def gender_predict(name):\n",
        "  Name = [name]\n",
        "  vector = cv.transform(Name).toarray()\n",
        "  if clf.predict(vector) == 1:\n",
        "    print(\"Giới tính: Nam\")\n",
        "  else:\n",
        "    print(\"Giới tính: Nữ\")"
      ],
      "execution_count": null,
      "outputs": []
    },
    {
      "cell_type": "code",
      "metadata": {
        "colab": {
          "base_uri": "https://localhost:8080/"
        },
        "id": "NP43SeHVsZO4",
        "outputId": "b0a2f45c-93ed-464a-e793-882923d8c8d2"
      },
      "source": [
        "gender_predict(\"Lê Việt Thắng\")"
      ],
      "execution_count": null,
      "outputs": [
        {
          "output_type": "stream",
          "name": "stdout",
          "text": [
            "Giới tính: Nam\n"
          ]
        }
      ]
    },
    {
      "cell_type": "markdown",
      "metadata": {
        "id": "8PNaoXlwusZS"
      },
      "source": [
        "#Logistic Regression"
      ]
    },
    {
      "cell_type": "code",
      "metadata": {
        "id": "Oszt7W-SsjII"
      },
      "source": [
        "from sklearn.linear_model import LogisticRegression"
      ],
      "execution_count": null,
      "outputs": []
    },
    {
      "cell_type": "code",
      "metadata": {
        "colab": {
          "base_uri": "https://localhost:8080/"
        },
        "id": "nwaU9PUju-l_",
        "outputId": "57d72c4e-d605-45f8-a067-cdd48b27e9b1"
      },
      "source": [
        "import time \n",
        "\n",
        "# fit the training dataset on the classifier\n",
        "start_time = time.time()\n",
        "\n",
        "LR = LogisticRegression(random_state=0, solver='lbfgs', multi_class='ovr')\n",
        "LR.fit(X_train,y_train)\n",
        "\n",
        "print(\"---- Mất {} để huấn luyện mô hình ----\".format((time.time() - start_time)))"
      ],
      "execution_count": null,
      "outputs": [
        {
          "output_type": "stream",
          "name": "stdout",
          "text": [
            "---- Mất 0.2378401756286621 để huấn luyện mô hình ----\n"
          ]
        }
      ]
    },
    {
      "cell_type": "code",
      "metadata": {
        "colab": {
          "base_uri": "https://localhost:8080/"
        },
        "id": "rpt6FmJ4vHT9",
        "outputId": "425c3cbb-2ea6-4a92-ceda-5935d3580ddb"
      },
      "source": [
        "# predict the labels on test dataset\n",
        "predictions_LR = LR.predict(X_test)\n",
        "\n",
        "# Use accuracy_score function to get the accuracy\n",
        "print(\"LR Accuracy Score -> \",accuracy_score(predictions_LR , y_test)*100)"
      ],
      "execution_count": null,
      "outputs": [
        {
          "output_type": "stream",
          "name": "stdout",
          "text": [
            "LR Accuracy Score ->  90.18621973929235\n"
          ]
        }
      ]
    },
    {
      "cell_type": "code",
      "metadata": {
        "colab": {
          "base_uri": "https://localhost:8080/"
        },
        "id": "l0nxGhSivK_v",
        "outputId": "969a2b8a-a3a5-40ce-c295-d59db7850965"
      },
      "source": [
        "print(\"F1-score: \", f1_score(predictions_LR, y_test, average='macro'))"
      ],
      "execution_count": null,
      "outputs": [
        {
          "output_type": "stream",
          "name": "stdout",
          "text": [
            "F1-score:  0.9009440485556488\n"
          ]
        }
      ]
    },
    {
      "cell_type": "code",
      "metadata": {
        "colab": {
          "base_uri": "https://localhost:8080/"
        },
        "id": "XB73YxpdlNCM",
        "outputId": "9fa98f2e-ded5-4124-df9d-530c9fc7111a"
      },
      "source": [
        "from sklearn.metrics import confusion_matrix\n",
        "from sklearn.metrics import classification_report\n",
        "\n",
        "print(classification_report(y_test, predictions_LR))\n",
        "print(confusion_matrix(y_test, predictions_LR))"
      ],
      "execution_count": null,
      "outputs": [
        {
          "output_type": "stream",
          "name": "stdout",
          "text": [
            "              precision    recall  f1-score   support\n",
            "\n",
            "           0       0.84      0.94      0.89      2289\n",
            "           1       0.96      0.87      0.91      3081\n",
            "\n",
            "    accuracy                           0.90      5370\n",
            "   macro avg       0.90      0.91      0.90      5370\n",
            "weighted avg       0.91      0.90      0.90      5370\n",
            "\n",
            "[[2163  126]\n",
            " [ 401 2680]]\n"
          ]
        }
      ]
    },
    {
      "cell_type": "code",
      "metadata": {
        "colab": {
          "base_uri": "https://localhost:8080/",
          "height": 512
        },
        "id": "kqugRiTgvNEM",
        "outputId": "cc46046e-ca0c-4fae-e32f-c8f837c3b36c"
      },
      "source": [
        "import seaborn as sns\n",
        "import matplotlib.pyplot as plt\n",
        "sns.set(font_scale=1.4)\n",
        "\n",
        "# Creates a confusion matrix\n",
        "cm = confusion_matrix(y_test, predictions_LR) \n",
        "\n",
        "# Transform to df for easier plotting\n",
        "cm_df = pd.DataFrame(cm,\n",
        "                     index = ['Male','Female',], \n",
        "                     columns = ['Male','Female'])\n",
        "\n",
        "plt.figure(figsize=(10,8))\n",
        "sns.heatmap(cm_df, annot=True, fmt=\"d\",annot_kws={\"size\": 18},)\n",
        "plt.ylabel('True label')\n",
        "plt.xlabel('Predicted label')\n",
        "plt.show()"
      ],
      "execution_count": null,
      "outputs": [
        {
          "output_type": "display_data",
          "data": {
            "image/png": "[encoded data removed]",
            "text/plain": [
              "<Figure size 720x576 with 2 Axes>"
            ]
          },
          "metadata": {}
        }
      ]
    },
    {
      "cell_type": "code",
      "metadata": {
        "id": "-tiTY4WbvVjB"
      },
      "source": [
        "def gender_predict(name):\n",
        "  Name = [name]\n",
        "  vector = cv.transform(Name).toarray()\n",
        "  if LR.predict(vector) == 1:\n",
        "    print(\"Giới tính: Nam\")\n",
        "  else:\n",
        "    print(\"Giới tính: Nữ\")"
      ],
      "execution_count": null,
      "outputs": []
    },
    {
      "cell_type": "code",
      "metadata": {
        "colab": {
          "base_uri": "https://localhost:8080/"
        },
        "id": "R9L1MBglwQqt",
        "outputId": "636c5432-c134-46b2-abcf-fdbdd60d18f1"
      },
      "source": [
        "gender_predict(\"Phạm Ngô Hoàng Sinh\")"
      ],
      "execution_count": null,
      "outputs": [
        {
          "output_type": "stream",
          "name": "stdout",
          "text": [
            "Giới tính: Nam\n"
          ]
        }
      ]
    }
  ]
}